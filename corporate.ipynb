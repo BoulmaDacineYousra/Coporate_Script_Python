{
  "cells": [
    {
      "cell_type": "markdown",
      "source": [
        "## **`In this section, we will perform all the necessary library installations for the project.`**\n",
        "\n",
        "\n",
        "\n",
        "---\n",
        "\n",
        "\n",
        "\n",
        "\n",
        "\n",
        "\n",
        "\n",
        "\n",
        "\n",
        "\n",
        "\n",
        "\n",
        "\n",
        "\n"
      ],
      "metadata": {
        "id": "xKI-ejuoqQ3T"
      }
    },
    {
      "cell_type": "code",
      "source": [
        " \n",
        "pip install names"
      ],
      "metadata": {
        "colab": {
          "base_uri": "https://localhost:8080/"
        },
        "id": "4zcQrsI9sYBO",
        "outputId": "b0bd5e83-c52c-48c8-c8c5-6edefaea65a9"
      },
      "execution_count": 1,
      "outputs": [
        {
          "output_type": "stream",
          "name": "stdout",
          "text": [
            "Looking in indexes: https://pypi.org/simple, https://us-python.pkg.dev/colab-wheels/public/simple/\n",
            "Collecting names\n",
            "  Downloading names-0.3.0.tar.gz (789 kB)\n",
            "\u001b[2K     \u001b[90m━━━━━━━━━━━━━━━━━━━━━━━━━━━━━━━━━━━━━━\u001b[0m \u001b[32m789.1/789.1 KB\u001b[0m \u001b[31m37.6 MB/s\u001b[0m eta \u001b[36m0:00:00\u001b[0m\n",
            "\u001b[?25h  Preparing metadata (setup.py) ... \u001b[?25l\u001b[?25hdone\n",
            "Building wheels for collected packages: names\n",
            "  Building wheel for names (setup.py) ... \u001b[?25l\u001b[?25hdone\n",
            "  Created wheel for names: filename=names-0.3.0-py3-none-any.whl size=803698 sha256=0efad67e46aafe3d3ec8a188badc8383ab80a0bfce41f5568d2bc540c61f95fc\n",
            "  Stored in directory: /root/.cache/pip/wheels/f1/bc/04/55ab9499ea02359ece8b02b4169ebb30aa52d82b84c13fc506\n",
            "Successfully built names\n",
            "Installing collected packages: names\n",
            "Successfully installed names-0.3.0\n"
          ]
        }
      ]
    },
    {
      "cell_type": "code",
      "source": [
        "pip install randominfo"
      ],
      "metadata": {
        "colab": {
          "base_uri": "https://localhost:8080/"
        },
        "id": "VgAm6pkWGg-h",
        "outputId": "14975f6c-c2eb-4b50-e74b-aa601f875b37"
      },
      "execution_count": 2,
      "outputs": [
        {
          "output_type": "stream",
          "name": "stdout",
          "text": [
            "Looking in indexes: https://pypi.org/simple, https://us-python.pkg.dev/colab-wheels/public/simple/\n",
            "Collecting randominfo\n",
            "  Downloading randominfo-2.0.2-py3-none-any.whl (6.4 MB)\n",
            "\u001b[2K     \u001b[90m━━━━━━━━━━━━━━━━━━━━━━━━━━━━━━━━━━━━━━━━\u001b[0m \u001b[32m6.4/6.4 MB\u001b[0m \u001b[31m85.3 MB/s\u001b[0m eta \u001b[36m0:00:00\u001b[0m\n",
            "\u001b[?25hRequirement already satisfied: pillow>=5.4.1 in /usr/local/lib/python3.9/dist-packages (from randominfo) (8.4.0)\n",
            "Requirement already satisfied: pytz>=2018.5 in /usr/local/lib/python3.9/dist-packages (from randominfo) (2022.7.1)\n",
            "Installing collected packages: randominfo\n",
            "Successfully installed randominfo-2.0.2\n"
          ]
        }
      ]
    },
    {
      "cell_type": "code",
      "source": [
        "pip install phone-gen"
      ],
      "metadata": {
        "colab": {
          "base_uri": "https://localhost:8080/"
        },
        "id": "gbU8UpRbEBTT",
        "outputId": "e8722805-df7f-4dae-c697-a3c8845b5361"
      },
      "execution_count": 3,
      "outputs": [
        {
          "output_type": "stream",
          "name": "stdout",
          "text": [
            "Looking in indexes: https://pypi.org/simple, https://us-python.pkg.dev/colab-wheels/public/simple/\n",
            "Collecting phone-gen\n",
            "  Downloading phone_gen-2.2.25-py3-none-any.whl (34 kB)\n",
            "Installing collected packages: phone-gen\n",
            "Successfully installed phone-gen-2.2.25\n"
          ]
        }
      ]
    },
    {
      "cell_type": "code",
      "source": [
        "pip install randominfo\n"
      ],
      "metadata": {
        "colab": {
          "base_uri": "https://localhost:8080/"
        },
        "id": "9f1WIJsOImVI",
        "outputId": "f352a615-48da-42d9-94e9-fde1f36631a6"
      },
      "execution_count": 4,
      "outputs": [
        {
          "output_type": "stream",
          "name": "stdout",
          "text": [
            "Looking in indexes: https://pypi.org/simple, https://us-python.pkg.dev/colab-wheels/public/simple/\n",
            "Requirement already satisfied: randominfo in /usr/local/lib/python3.9/dist-packages (2.0.2)\n",
            "Requirement already satisfied: pillow>=5.4.1 in /usr/local/lib/python3.9/dist-packages (from randominfo) (8.4.0)\n",
            "Requirement already satisfied: pytz>=2018.5 in /usr/local/lib/python3.9/dist-packages (from randominfo) (2022.7.1)\n"
          ]
        }
      ]
    },
    {
      "cell_type": "markdown",
      "source": [
        "## **`In this section, we will declare functions that generate corporate information`**"
      ],
      "metadata": {
        "id": "cj49v7i4rkxZ"
      }
    },
    {
      "cell_type": "code",
      "source": [
        "# function that returns random corporate name \n",
        "import pandas as pd\n",
        "import random\n",
        "\n",
        "df = pd.read_csv('coorporate.csv', header=0)\n",
        "\n",
        "# print(df)\n",
        "\n",
        "\n",
        "\n",
        "\n",
        "# Select the column for which you want to find distinct values\n",
        "coor = df['Customer/Account Name']\n",
        "\n",
        "# Get the distinct values of the column\n",
        "coorporate_list = coor.unique() \n",
        "\n",
        "\n",
        "def get_random_coorporate_name():\n",
        "   coorporate_list = coor.unique() \n",
        "   random_item = random.choices(coorporate_list, k=1)[0] \n",
        "   return   random_item \n",
        "\n",
        "get_random_coorporate_name()   \n",
        "\n",
        "    "
      ],
      "metadata": {
        "colab": {
          "base_uri": "https://localhost:8080/",
          "height": 35
        },
        "id": "aiJG9zs9spyN",
        "outputId": "51e7bb20-7026-4590-98e8-1b603f07b395"
      },
      "execution_count": 30,
      "outputs": [
        {
          "output_type": "execute_result",
          "data": {
            "text/plain": [
              "'ASSISTANCE TECHNIQUE FRANCO-ALGERIENNE'"
            ],
            "application/vnd.google.colaboratory.intrinsic+json": {
              "type": "string"
            }
          },
          "metadata": {},
          "execution_count": 30
        }
      ]
    },
    {
      "cell_type": "code",
      "source": [
        "import random\n",
        "import string\n",
        "\n",
        "def generate_email(name ):\n",
        "    \"\"\"Generate a random email address\"\"\"\n",
        "    letters = string.ascii_lowercase\n",
        "    username = name\n",
        "    domain = random.choice(['gmail.com', 'yahoo.com', 'hotmail.com', 'outlook.com'])\n",
        "    return f\"{username}@{domain}\"\n",
        "\n",
        "\n",
        "\n"
      ],
      "metadata": {
        "id": "G7TqUcRt7ZQt"
      },
      "execution_count": 31,
      "outputs": []
    },
    {
      "cell_type": "code",
      "source": [
        "from phone_gen import PhoneNumber\n",
        "def phoneNumber() : \n",
        "   phone_number = PhoneNumber(\"Algeria\")\n",
        "   number = phone_number.get_mobile()\n",
        "   return number \n",
        "\n",
        "phoneNumber()   \n"
      ],
      "metadata": {
        "colab": {
          "base_uri": "https://localhost:8080/",
          "height": 35
        },
        "id": "1S0G0Aq8ELOa",
        "outputId": "b4a8f5b1-770b-4636-eb3d-393cb2de7746"
      },
      "execution_count": 7,
      "outputs": [
        {
          "output_type": "execute_result",
          "data": {
            "text/plain": [
              "'+213784810251'"
            ],
            "application/vnd.google.colaboratory.intrinsic+json": {
              "type": "string"
            }
          },
          "metadata": {},
          "execution_count": 7
        }
      ]
    },
    {
      "cell_type": "markdown",
      "source": [
        "## **`In this section, we will read the csv file that contains info about the Hotels .`**"
      ],
      "metadata": {
        "id": "3E_cULYCsnJZ"
      }
    },
    {
      "cell_type": "code",
      "source": [
        "import pandas as pd\n",
        "\n",
        "df = pd.read_csv('hotels.csv', header=0)\n",
        "print(df)\n",
        "\n",
        "\n"
      ],
      "metadata": {
        "id": "JoiqElchFG71",
        "colab": {
          "base_uri": "https://localhost:8080/"
        },
        "outputId": "1426056b-b36f-4e1a-aa57-dfbec36b39a7"
      },
      "execution_count": 10,
      "outputs": [
        {
          "output_type": "stream",
          "name": "stdout",
          "text": [
            "     id_hotel                 nom_hotel           ville         categorie  \\\n",
            "0           3     Complexe Naoui Charef          Djelfa   Station thermal   \n",
            "1           2           Hammam Salihine          Biskra   Station thermal   \n",
            "2           4            Hammam Meloune           Blida   Station thermal   \n",
            "3           5          Hammam Bouhadjar  Ain Témouchent   Station thermal   \n",
            "4           6          Hamma Bouhanifia         Mascara   Station thermal   \n",
            "..        ...                       ...             ...               ...   \n",
            "143       143      HOTEL TULIP INN NAYA           Alger  Ville ( Urbain )   \n",
            "144       144      HOTEL EDEN BEL ABBAS   Sidi Belabbes  Ville ( Urbain )   \n",
            "145       145       HOTEL AZ GRAND ORAN            Oran  Ville ( Urbain )   \n",
            "146       146  HOTEL EVASION BY LIBERTE            Oran  Ville ( Urbain )   \n",
            "147       147            HOTEL BAY DIAB           Alger  Ville ( Urbain )   \n",
            "\n",
            "    type_hotel  nombre_chambre  dispo_namlatic  classifying  \n",
            "0       Loisir             207              23            3  \n",
            "1      Détente             238              37            5  \n",
            "2      Détente             199              22            4  \n",
            "3      Détente             298              21            3  \n",
            "4      Détente             228              50            3  \n",
            "..         ...             ...             ...          ...  \n",
            "143    Famille             248              23            4  \n",
            "144    Famille             293              31            5  \n",
            "145     Loisir             256              40            5  \n",
            "146    Détente             169              41            5  \n",
            "147    Détente             297              43            5  \n",
            "\n",
            "[148 rows x 8 columns]\n"
          ]
        }
      ]
    },
    {
      "cell_type": "markdown",
      "source": [
        "## ***`*In this section, we will declare functions that generate reservation  information.*`***"
      ],
      "metadata": {
        "id": "06jLSn_EtIqw"
      }
    },
    {
      "cell_type": "code",
      "source": [
        "# Python3 code to generate the\n",
        "# random id using uuid1()\n",
        "\n",
        "import uuid\n",
        "def gen_id() : \n",
        "\n",
        "  return uuid.uuid4().hex\n",
        "\n",
        "gen_id()  \n",
        "\n"
      ],
      "metadata": {
        "colab": {
          "base_uri": "https://localhost:8080/",
          "height": 35
        },
        "id": "ktNhS7yU87oK",
        "outputId": "2aca4d08-5bcb-4735-d469-b7cb68c14b24"
      },
      "execution_count": 11,
      "outputs": [
        {
          "output_type": "execute_result",
          "data": {
            "text/plain": [
              "'e97fd7c5522c42749dfd3689909c8cf8'"
            ],
            "application/vnd.google.colaboratory.intrinsic+json": {
              "type": "string"
            }
          },
          "metadata": {},
          "execution_count": 11
        }
      ]
    },
    {
      "cell_type": "code",
      "source": [
        "import random\n",
        "\n",
        "merged_column = (df['nom_hotel'] + '*' + df['ville']+ '*' +df[\"classifying\"].astype(str) ).tolist()\n",
        "\n",
        "def get_hotel () : \n",
        "   \n",
        "    \n",
        "   random_item = random.choices(merged_column)[0]\n",
        "   return random_item\n",
        "  # return random_item.strftime('%d-%m-%Y') \n",
        "\n",
        " \n",
        "get_hotel() \n",
        "\n",
        "\n",
        "\n"
      ],
      "metadata": {
        "id": "-PPV9OdMrjW-",
        "colab": {
          "base_uri": "https://localhost:8080/",
          "height": 35
        },
        "outputId": "9855288b-213e-418f-b87a-adc72453d833"
      },
      "execution_count": 12,
      "outputs": [
        {
          "output_type": "execute_result",
          "data": {
            "text/plain": [
              "'Hôtel Louss*El Oued*4'"
            ],
            "application/vnd.google.colaboratory.intrinsic+json": {
              "type": "string"
            }
          },
          "metadata": {},
          "execution_count": 12
        }
      ]
    },
    {
      "cell_type": "code",
      "source": [
        "import random\n",
        "\n",
        "def get_status() : \n",
        "    my_list2 = ['honorée','annulée' , 'noshow']\n",
        "    weights = [4, 2, 1]  # Bias towards item1\n",
        "    random_item = random.choices(my_list2, weights=weights, k=1)[0] \n",
        "    return random_item\n",
        "\n",
        "get_status()   "
      ],
      "metadata": {
        "colab": {
          "base_uri": "https://localhost:8080/",
          "height": 35
        },
        "id": "oyFQkv1IDFC5",
        "outputId": "e344c220-809d-4f62-ab54-3c5db8039e32"
      },
      "execution_count": 13,
      "outputs": [
        {
          "output_type": "execute_result",
          "data": {
            "text/plain": [
              "'annulée'"
            ],
            "application/vnd.google.colaboratory.intrinsic+json": {
              "type": "string"
            }
          },
          "metadata": {},
          "execution_count": 13
        }
      ]
    },
    {
      "cell_type": "code",
      "source": [
        "import random\n",
        "\n",
        "def get_payment_type() : \n",
        "    # my_list = ['PAT', 'PAT','PAT', 'CIB','CIB', 'Wiretransfert']\n",
        "    weights = [4, 2, 1]  # Bias towards item1\n",
        "    my_list = ['PAT', 'CIB', 'Wiretransfert']\n",
        "    # weights = [4, 2, 1]  # Bias towards item1\n",
        "    random_item = random.choices(my_list, weights=weights, k=1)[0]\n",
        "    # random_item = random.choices(my_list, k=1)[0]\n",
        "    return random_item\n",
        "\n",
        "get_payment_type()"
      ],
      "metadata": {
        "id": "GDXEgi54ejib",
        "colab": {
          "base_uri": "https://localhost:8080/",
          "height": 35
        },
        "outputId": "c7ca9335-a0d4-481d-f75a-92ded976d46c"
      },
      "execution_count": 14,
      "outputs": [
        {
          "output_type": "execute_result",
          "data": {
            "text/plain": [
              "'PAT'"
            ],
            "application/vnd.google.colaboratory.intrinsic+json": {
              "type": "string"
            }
          },
          "metadata": {},
          "execution_count": 14
        }
      ]
    },
    {
      "cell_type": "code",
      "source": [
        "import random\n",
        "\n",
        "def get_reza_device() : \n",
        "    my_list2 = ['PC','Android Phone' , 'Iphone']\n",
        "    weights = [3, 2, 1]  # Bias towards item1\n",
        "    random_item = random.choices(my_list2, weights=weights, k=1)[0] \n",
        "    return random_item\n",
        "\n"
      ],
      "metadata": {
        "id": "QSOBYTHf3mcH"
      },
      "execution_count": 15,
      "outputs": []
    },
    {
      "cell_type": "markdown",
      "source": [
        "# **`This section is for generating and manipulating dates.`**"
      ],
      "metadata": {
        "id": "94IJKgVsttuI"
      }
    },
    {
      "cell_type": "code",
      "source": [
        "import datetime\n",
        "\n",
        "def add_days_to_date(date_string, days):\n",
        "    \"\"\"Add a number of days to a date and return the result in the dd-mm-YYYY format\"\"\"\n",
        "    # Parse the input date string to a datetime object\n",
        "    date = datetime.datetime.strptime(date_string , '%Y-%m-%d')\n",
        "    new_date = date + datetime.timedelta(days=days)\n",
        "    return new_date.strftime('%Y-%m-%d')\n",
        "\n",
        "add_days_to_date( '2020-12-12', 8)"
      ],
      "metadata": {
        "colab": {
          "base_uri": "https://localhost:8080/",
          "height": 35
        },
        "id": "yi5J1W4Z9LMy",
        "outputId": "e648c485-6093-469a-8cfe-77f5ad3b0bf7"
      },
      "execution_count": 16,
      "outputs": [
        {
          "output_type": "execute_result",
          "data": {
            "text/plain": [
              "'2020-12-20'"
            ],
            "application/vnd.google.colaboratory.intrinsic+json": {
              "type": "string"
            }
          },
          "metadata": {},
          "execution_count": 16
        }
      ]
    },
    {
      "cell_type": "code",
      "source": [
        "import random\n",
        "import datetime\n",
        "\n",
        "def generate_random_date():\n",
        "    \"\"\"Generate a random date between January 1st, 2020 and today\"\"\"\n",
        "    start_date = datetime.date(2020, 1, 1)\n",
        "    end_date = datetime.date.today()\n",
        "    delta = end_date - start_date\n",
        "    random_days = random.randint(0, delta.days)\n",
        "    random_date = start_date + datetime.timedelta(days=random_days)\n",
        "    # return random_date\n",
        "    return random_date.strftime('%Y-%m-%d') \n",
        "\n",
        "date= generate_random_date()\n",
        "print(date)  \n",
        "days = random.randint(1, 15)\n",
        "print(days)\n",
        "add_days_to_date( date, days )"
      ],
      "metadata": {
        "colab": {
          "base_uri": "https://localhost:8080/",
          "height": 70
        },
        "id": "xBkMGYnhAntT",
        "outputId": "b1fa7586-a2f3-4609-ed25-294064a716ea"
      },
      "execution_count": 17,
      "outputs": [
        {
          "output_type": "stream",
          "name": "stdout",
          "text": [
            "2020-09-15\n",
            "7\n"
          ]
        },
        {
          "output_type": "execute_result",
          "data": {
            "text/plain": [
              "'2020-09-22'"
            ],
            "application/vnd.google.colaboratory.intrinsic+json": {
              "type": "string"
            }
          },
          "metadata": {},
          "execution_count": 17
        }
      ]
    },
    {
      "cell_type": "code",
      "source": [
        "import random\n",
        "from datetime import date, timedelta\n",
        "\n",
        "def canceledOn(bookedOn , checkIn ) : \n",
        "\n",
        "   start = datetime.datetime.strptime(bookedOn , '%Y-%m-%d')\n",
        "   end  = datetime.datetime.strptime(checkIn  , '%Y-%m-%d')\n",
        "   \n",
        "   # generate a random number of days between the start and end dates\n",
        "   days_diff = ( end - start ).days\n",
        "   random_days = random.randint(0, days_diff)\n",
        "\n",
        "   # calculate the random date\n",
        "   random_date = start + timedelta(days=random_days)\n",
        "\n",
        "   # print the random date\n",
        "   return random_date.strftime('%Y-%m-%d')\n",
        "\n",
        "canceledOn('2022-02-01', '2022-02-12') "
      ],
      "metadata": {
        "colab": {
          "base_uri": "https://localhost:8080/",
          "height": 35
        },
        "id": "SKujtuyXlNyu",
        "outputId": "dc9b67d3-5d1f-4069-e741-e5ca5b70dd67"
      },
      "execution_count": 18,
      "outputs": [
        {
          "output_type": "execute_result",
          "data": {
            "text/plain": [
              "'2022-02-07'"
            ],
            "application/vnd.google.colaboratory.intrinsic+json": {
              "type": "string"
            }
          },
          "metadata": {},
          "execution_count": 18
        }
      ]
    },
    {
      "cell_type": "markdown",
      "source": [
        "# **`This section is for room price a refund amount  .`**"
      ],
      "metadata": {
        "id": "TmXUSBcnuhZZ"
      }
    },
    {
      "cell_type": "code",
      "source": [
        "def roomPrice (classifying) : \n",
        "   if classifying == 1 : \n",
        "      price =  random.randint( 3000, 5000)\n",
        "\n",
        "   elif classifying == 2 :\n",
        "     price = random.randint( 5000 , 7000)\n",
        "\n",
        "   elif classifying == 3 :\n",
        "     price = random.randint( 6000 , 8000)\n",
        "\n",
        "   elif classifying == 4 :\n",
        "     price = random.randint( 8500 , 10000)\n",
        "\n",
        "   elif classifying == 5 :\n",
        "     price = random.randint( 12000 , 20000)   \n",
        "\n",
        "   return price\n",
        "\n",
        "roomPrice(3)   "
      ],
      "metadata": {
        "colab": {
          "base_uri": "https://localhost:8080/"
        },
        "id": "O69dWUd0-SCj",
        "outputId": "388bdd38-93ba-4c15-d632-cb5ab714e482"
      },
      "execution_count": 19,
      "outputs": [
        {
          "output_type": "execute_result",
          "data": {
            "text/plain": [
              "6054"
            ]
          },
          "metadata": {},
          "execution_count": 19
        }
      ]
    },
    {
      "cell_type": "code",
      "source": [
        "def refundAmount (bookingAmount):\n",
        "    refundPer =  random.randint(80, 90)\n",
        "    refundAmount = bookingAmount*refundPer/100 \n",
        "    return int(refundAmount)\n",
        "refundAmount (20000)\n"
      ],
      "metadata": {
        "colab": {
          "base_uri": "https://localhost:8080/"
        },
        "id": "8jLcvZ5_gUxA",
        "outputId": "97a493ec-7b4b-4386-89c8-b2c1aa5d5d25"
      },
      "execution_count": 20,
      "outputs": [
        {
          "output_type": "execute_result",
          "data": {
            "text/plain": [
              "16800"
            ]
          },
          "metadata": {},
          "execution_count": 20
        }
      ]
    },
    {
      "cell_type": "markdown",
      "source": [
        "## **Section for commission calculation**"
      ],
      "metadata": {
        "id": "SF7bVmCv7bkg"
      }
    },
    {
      "cell_type": "code",
      "source": [
        "import random\n",
        "\n",
        "def get_hotel_commission(bookingAmount) : \n",
        "    CommissionPer =  random.randint(10, 25)\n",
        "    commissionAmount = bookingAmount* CommissionPer /100 \n",
        "    return int(commissionAmount)"
      ],
      "metadata": {
        "id": "pPJCo_Z377cn"
      },
      "execution_count": 21,
      "outputs": []
    },
    {
      "cell_type": "markdown",
      "source": [
        "### **`The script to fill the DB`**"
      ],
      "metadata": {
        "id": "kJhRzdIyvA2E"
      }
    },
    {
      "cell_type": "code",
      "source": [
        "\n",
        "import random\n",
        "from datetime import date, timedelta\n",
        "\n",
        "import psycopg2\n",
        "\n",
        "# Connect to the hosted PostgreSQL database\n",
        "conn = psycopg2.connect(\n",
        "    host=\"namla-dev.cbcn7atdxnnu.eu-west-1.rds.amazonaws.com\",\n",
        "    port=\"5432\",\n",
        "    database=\"namla_market\",\n",
        "    user=\"younes\",\n",
        "    password=\"tRd24WOsGCoe\"\n",
        ")\n",
        "\n",
        "# Open a cursor to perform database operations\n",
        "cur = conn.cursor()\n",
        "\n",
        "\n",
        "for i in range(100):\n",
        "\n",
        "   id = gen_id() \n",
        "\n",
        "   name = get_random_coorporate_name() \n",
        "\n",
        "   nameWithoutSpace  = name.replace(\" \", \"_\")\n",
        "   gender = guess_gender(name)\n",
        "   add= get_client_Add()\n",
        "\n",
        "\n",
        "   payementType = get_payment_type() \n",
        "   print(payementType) \n",
        "\n",
        "   email = generate_email(nameWithoutSpace)\n",
        "\n",
        "   status  = get_status() \n",
        "\n",
        "   device = get_reza_device()\n",
        "   \n",
        "   hotel = get_hotel()\n",
        "\n",
        "   my_list = hotel.split('*')\n",
        "   hotelName = my_list[0]\n",
        "   hotelAdd = my_list[1]\n",
        "   classifying = int(my_list[2])\n",
        "   print (classifying) \n",
        "\n",
        "  \n",
        "   bookedOn = generate_random_date()\n",
        "   print(bookedOn)\n",
        "\n",
        "   \n",
        "\n",
        "   days = random.randint(1, 100)\n",
        "\n",
        "   datechekin = add_days_to_date( bookedOn, days) \n",
        "   print(datechekin)\n",
        "\n",
        "   days = random.randint(1, 15) \n",
        "\n",
        "   datecheckout = add_days_to_date(datechekin, days)\n",
        "   print(datecheckout)\n",
        "   canceledon = None ; \n",
        "   roomCount = random.randint(1, 4) \n",
        "\n",
        "   roomprice = roomPrice(classifying)\n",
        "   bookingAmount = roomprice * roomCount\n",
        "    \n",
        "  \n",
        "\n",
        "   if (status == \"annulée\") : \n",
        "     canceledon =  canceledOn(bookedOn , datechekin )\n",
        "     start = datetime.datetime.strptime(canceledon  , '%Y-%m-%d')\n",
        "     end  = datetime.datetime.strptime(datechekin  , '%Y-%m-%d')\n",
        "     days_diff = ( end - start ).days \n",
        "     if (int(days_diff) > 1 ) :\n",
        "         refundamount = int(refundAmount (bookingAmount) )\n",
        "\n",
        "   print(canceledon)  \n",
        "  \n",
        "   NamlaticCom = get_hotel_commission(bookingAmount) \n",
        "   hotelCom = bookingAmount - NamlaticCom\n",
        "\n",
        "\n",
        "   \n",
        "\n",
        "   cur.execute(  \"INSERT INTO namla_market.reza_corporate ( bookingno, bookingstatus, paymenttype, hotelname, hoteladdress, corporatename, corporatephoneno, corporateemail, corporatelocalisation ,roomcount, guestcount, days, bookedon , checkin, checkout, bookingamount, directhotelbooking, bookingamount_vat, amountpaid, amounttopayathotel, cancelledon, cancelledfee, servicecharge, refundamount, cibbankfee, hotelcommission, hotelownervat, namlaticcommission , namlaticvat) VALUES (%s, %s, %s, %s, %s, %s, %s, %s, %s, %s, %s, %s, %s, %s, %s, %s, %s, %s, %s, %s, %s, %s, %s, %s, %s, %s, %s, %s , %s)\", (id ,status , payementType , hotelName, hotelAdd, name, phoneNumber() , email , add , roomCount , roomCount , days, bookedOn , datechekin, datecheckout , bookingAmount , 'No', '$550', '$100', '$450',canceledon , None, None, refundamount, 0.2, hotelCom, hotelCom/0.09 , NamlaticCom , NamlaticCom/0.09 )) \n",
        "   # Commit the transaction\n",
        "conn.commit() \n",
        "\n",
        "# Close the cursor and database connection\n",
        "cur.close()\n",
        "conn.close()"
      ],
      "metadata": {
        "id": "FP1y--azNUiz",
        "colab": {
          "base_uri": "https://localhost:8080/"
        },
        "outputId": "3ca6b460-6e77-41b2-cead-a7097a99f630"
      },
      "execution_count": 29,
      "outputs": [
        {
          "output_type": "stream",
          "name": "stdout",
          "text": [
            "CIB\n",
            "4\n",
            "2021-04-14\n",
            "2021-05-26\n",
            "2021-05-31\n",
            "None\n",
            "PAT\n",
            "5\n",
            "2022-11-15\n",
            "2022-12-02\n",
            "2022-12-14\n",
            "None\n",
            "PAT\n",
            "5\n",
            "2021-10-10\n",
            "2021-10-12\n",
            "2021-10-13\n",
            "None\n",
            "Wiretransfert\n",
            "4\n",
            "2020-02-18\n",
            "2020-04-24\n",
            "2020-05-03\n",
            "None\n",
            "PAT\n",
            "5\n",
            "2020-01-28\n",
            "2020-04-27\n",
            "2020-05-12\n",
            "2020-01-29\n",
            "PAT\n",
            "5\n",
            "2020-10-27\n",
            "2020-12-28\n",
            "2021-01-06\n",
            "None\n",
            "CIB\n",
            "3\n",
            "2020-11-20\n",
            "2020-12-10\n",
            "2020-12-22\n",
            "None\n",
            "Wiretransfert\n",
            "5\n",
            "2022-08-02\n",
            "2022-08-25\n",
            "2022-08-26\n",
            "2022-08-25\n",
            "PAT\n",
            "4\n",
            "2022-11-12\n",
            "2022-12-06\n",
            "2022-12-16\n",
            "None\n",
            "CIB\n",
            "3\n",
            "2021-11-02\n",
            "2021-11-12\n",
            "2021-11-13\n",
            "None\n",
            "PAT\n",
            "4\n",
            "2022-01-02\n",
            "2022-03-11\n",
            "2022-03-16\n",
            "None\n",
            "PAT\n",
            "3\n",
            "2021-12-18\n",
            "2022-01-18\n",
            "2022-01-19\n",
            "None\n",
            "PAT\n",
            "3\n",
            "2020-10-15\n",
            "2020-11-12\n",
            "2020-11-21\n",
            "2020-11-08\n",
            "CIB\n",
            "5\n",
            "2021-07-02\n",
            "2021-09-23\n",
            "2021-09-29\n",
            "None\n",
            "Wiretransfert\n",
            "4\n",
            "2022-12-13\n",
            "2023-02-20\n",
            "2023-02-23\n",
            "None\n",
            "CIB\n",
            "4\n",
            "2020-06-07\n",
            "2020-09-13\n",
            "2020-09-23\n",
            "2020-08-30\n",
            "CIB\n",
            "4\n",
            "2020-03-04\n",
            "2020-04-14\n",
            "2020-04-26\n",
            "2020-03-06\n",
            "PAT\n",
            "4\n",
            "2022-07-23\n",
            "2022-10-09\n",
            "2022-10-10\n",
            "None\n",
            "Wiretransfert\n",
            "3\n",
            "2020-02-22\n",
            "2020-04-12\n",
            "2020-04-20\n",
            "2020-03-28\n",
            "CIB\n",
            "5\n",
            "2021-05-21\n",
            "2021-08-25\n",
            "2021-09-07\n",
            "None\n",
            "CIB\n",
            "5\n",
            "2021-11-17\n",
            "2022-01-10\n",
            "2022-01-22\n",
            "None\n",
            "CIB\n",
            "5\n",
            "2020-05-26\n",
            "2020-07-07\n",
            "2020-07-08\n",
            "None\n",
            "PAT\n",
            "3\n",
            "2020-07-06\n",
            "2020-08-19\n",
            "2020-08-21\n",
            "2020-07-12\n",
            "PAT\n",
            "3\n",
            "2022-07-14\n",
            "2022-09-03\n",
            "2022-09-18\n",
            "2022-08-05\n",
            "PAT\n",
            "3\n",
            "2021-04-16\n",
            "2021-05-15\n",
            "2021-05-30\n",
            "2021-05-12\n",
            "Wiretransfert\n",
            "3\n",
            "2021-07-02\n",
            "2021-08-10\n",
            "2021-08-21\n",
            "2021-07-25\n",
            "CIB\n",
            "4\n",
            "2021-10-17\n",
            "2022-01-04\n",
            "2022-01-12\n",
            "None\n",
            "PAT\n",
            "5\n",
            "2023-02-11\n",
            "2023-02-16\n",
            "2023-03-03\n",
            "None\n",
            "PAT\n",
            "5\n",
            "2022-09-04\n",
            "2022-11-05\n",
            "2022-11-08\n",
            "None\n",
            "PAT\n",
            "3\n",
            "2020-01-03\n",
            "2020-02-10\n",
            "2020-02-12\n",
            "None\n",
            "PAT\n",
            "3\n",
            "2020-12-05\n",
            "2020-12-11\n",
            "2020-12-16\n",
            "2020-12-11\n",
            "PAT\n",
            "5\n",
            "2020-06-24\n",
            "2020-07-11\n",
            "2020-07-22\n",
            "None\n",
            "PAT\n",
            "3\n",
            "2021-01-06\n",
            "2021-03-19\n",
            "2021-03-28\n",
            "None\n",
            "CIB\n",
            "4\n",
            "2021-12-29\n",
            "2022-03-03\n",
            "2022-03-09\n",
            "None\n",
            "PAT\n",
            "3\n",
            "2023-01-22\n",
            "2023-03-14\n",
            "2023-03-27\n",
            "None\n",
            "PAT\n",
            "3\n",
            "2021-06-15\n",
            "2021-07-17\n",
            "2021-07-20\n",
            "None\n",
            "CIB\n",
            "4\n",
            "2020-02-11\n",
            "2020-03-30\n",
            "2020-04-11\n",
            "2020-02-29\n",
            "Wiretransfert\n",
            "4\n",
            "2020-05-09\n",
            "2020-05-29\n",
            "2020-06-09\n",
            "None\n",
            "CIB\n",
            "4\n",
            "2021-05-17\n",
            "2021-07-20\n",
            "2021-08-01\n",
            "2021-07-17\n",
            "PAT\n",
            "3\n",
            "2021-09-28\n",
            "2021-10-19\n",
            "2021-10-29\n",
            "None\n",
            "Wiretransfert\n",
            "4\n",
            "2022-11-04\n",
            "2022-12-29\n",
            "2023-01-09\n",
            "2022-12-16\n",
            "CIB\n",
            "4\n",
            "2022-12-14\n",
            "2022-12-15\n",
            "2022-12-22\n",
            "None\n",
            "CIB\n",
            "4\n",
            "2020-09-01\n",
            "2020-10-02\n",
            "2020-10-17\n",
            "None\n",
            "PAT\n",
            "3\n",
            "2020-06-01\n",
            "2020-08-09\n",
            "2020-08-14\n",
            "None\n",
            "PAT\n",
            "5\n",
            "2020-02-29\n",
            "2020-03-14\n",
            "2020-03-17\n",
            "None\n",
            "PAT\n",
            "3\n",
            "2022-06-15\n",
            "2022-09-13\n",
            "2022-09-21\n",
            "None\n",
            "CIB\n",
            "3\n",
            "2021-11-08\n",
            "2021-12-31\n",
            "2022-01-03\n",
            "None\n",
            "PAT\n",
            "3\n",
            "2022-05-29\n",
            "2022-07-19\n",
            "2022-07-22\n",
            "None\n",
            "PAT\n",
            "5\n",
            "2020-02-17\n",
            "2020-05-07\n",
            "2020-05-10\n",
            "None\n",
            "CIB\n",
            "4\n",
            "2023-01-22\n",
            "2023-04-18\n",
            "2023-05-03\n",
            "None\n",
            "PAT\n",
            "4\n",
            "2022-12-26\n",
            "2023-02-02\n",
            "2023-02-05\n",
            "None\n",
            "Wiretransfert\n",
            "4\n",
            "2021-04-30\n",
            "2021-05-07\n",
            "2021-05-22\n",
            "2021-04-30\n",
            "CIB\n",
            "3\n",
            "2020-11-16\n",
            "2021-01-11\n",
            "2021-01-16\n",
            "None\n",
            "PAT\n",
            "5\n",
            "2022-08-27\n",
            "2022-09-22\n",
            "2022-10-06\n",
            "None\n",
            "PAT\n",
            "5\n",
            "2023-01-20\n",
            "2023-04-25\n",
            "2023-04-27\n",
            "None\n",
            "PAT\n",
            "3\n",
            "2021-03-29\n",
            "2021-06-11\n",
            "2021-06-25\n",
            "None\n",
            "PAT\n",
            "3\n",
            "2020-09-08\n",
            "2020-10-22\n",
            "2020-10-29\n",
            "None\n",
            "PAT\n",
            "3\n",
            "2022-08-04\n",
            "2022-10-19\n",
            "2022-10-22\n",
            "None\n",
            "CIB\n",
            "5\n",
            "2021-06-24\n",
            "2021-09-25\n",
            "2021-10-08\n",
            "None\n",
            "PAT\n",
            "5\n",
            "2022-05-10\n",
            "2022-06-23\n",
            "2022-06-28\n",
            "2022-06-11\n",
            "PAT\n",
            "5\n",
            "2020-04-24\n",
            "2020-06-12\n",
            "2020-06-13\n",
            "None\n",
            "PAT\n",
            "5\n",
            "2021-08-12\n",
            "2021-08-28\n",
            "2021-09-02\n",
            "2021-08-22\n",
            "CIB\n",
            "4\n",
            "2023-01-15\n",
            "2023-02-15\n",
            "2023-02-20\n",
            "None\n",
            "Wiretransfert\n",
            "4\n",
            "2021-06-22\n",
            "2021-07-07\n",
            "2021-07-21\n",
            "None\n",
            "CIB\n",
            "4\n",
            "2020-10-04\n",
            "2020-10-15\n",
            "2020-10-28\n",
            "2020-10-07\n",
            "PAT\n",
            "3\n",
            "2021-05-15\n",
            "2021-06-08\n",
            "2021-06-21\n",
            "2021-05-21\n",
            "Wiretransfert\n",
            "3\n",
            "2020-09-01\n",
            "2020-11-28\n",
            "2020-12-10\n",
            "None\n",
            "PAT\n",
            "4\n",
            "2021-11-29\n",
            "2021-12-11\n",
            "2021-12-21\n",
            "None\n",
            "CIB\n",
            "5\n",
            "2022-11-10\n",
            "2023-01-24\n",
            "2023-02-06\n",
            "2023-01-16\n",
            "PAT\n",
            "3\n",
            "2020-04-19\n",
            "2020-06-16\n",
            "2020-06-20\n",
            "None\n",
            "CIB\n",
            "3\n",
            "2020-09-21\n",
            "2020-10-25\n",
            "2020-10-26\n",
            "None\n",
            "CIB\n",
            "3\n",
            "2023-02-03\n",
            "2023-04-17\n",
            "2023-04-25\n",
            "None\n",
            "Wiretransfert\n",
            "3\n",
            "2020-11-07\n",
            "2020-11-10\n",
            "2020-11-14\n",
            "None\n",
            "PAT\n",
            "3\n",
            "2021-12-09\n",
            "2022-02-19\n",
            "2022-02-28\n",
            "None\n",
            "PAT\n",
            "3\n",
            "2023-03-18\n",
            "2023-04-26\n",
            "2023-04-28\n",
            "None\n",
            "Wiretransfert\n",
            "5\n",
            "2022-05-18\n",
            "2022-06-25\n",
            "2022-07-01\n",
            "None\n",
            "PAT\n",
            "5\n",
            "2022-05-02\n",
            "2022-05-14\n",
            "2022-05-26\n",
            "2022-05-12\n",
            "PAT\n",
            "4\n",
            "2020-11-28\n",
            "2021-02-15\n",
            "2021-02-21\n",
            "None\n",
            "Wiretransfert\n",
            "5\n",
            "2023-03-06\n",
            "2023-04-11\n",
            "2023-04-16\n",
            "2023-03-12\n",
            "CIB\n",
            "4\n",
            "2022-04-18\n",
            "2022-07-15\n",
            "2022-07-23\n",
            "2022-06-17\n",
            "CIB\n",
            "4\n",
            "2021-05-21\n",
            "2021-07-22\n",
            "2021-08-04\n",
            "2021-06-20\n",
            "PAT\n",
            "3\n",
            "2020-01-08\n",
            "2020-02-05\n",
            "2020-02-19\n",
            "2020-02-05\n",
            "PAT\n",
            "5\n",
            "2021-05-19\n",
            "2021-07-04\n",
            "2021-07-14\n",
            "None\n",
            "CIB\n",
            "5\n",
            "2023-02-13\n",
            "2023-04-04\n",
            "2023-04-05\n",
            "2023-03-09\n",
            "PAT\n",
            "3\n",
            "2020-01-25\n",
            "2020-04-01\n",
            "2020-04-02\n",
            "None\n",
            "PAT\n",
            "3\n",
            "2020-04-20\n",
            "2020-05-08\n",
            "2020-05-09\n",
            "None\n",
            "PAT\n",
            "3\n",
            "2021-06-15\n",
            "2021-07-12\n",
            "2021-07-27\n",
            "None\n",
            "Wiretransfert\n",
            "5\n",
            "2020-06-22\n",
            "2020-08-05\n",
            "2020-08-12\n",
            "None\n",
            "PAT\n",
            "4\n",
            "2020-01-08\n",
            "2020-02-20\n",
            "2020-02-26\n",
            "2020-02-16\n",
            "PAT\n",
            "4\n",
            "2020-09-21\n",
            "2020-11-24\n",
            "2020-12-01\n",
            "None\n",
            "PAT\n",
            "5\n",
            "2020-08-29\n",
            "2020-09-02\n",
            "2020-09-04\n",
            "2020-08-31\n",
            "PAT\n",
            "4\n",
            "2021-03-09\n",
            "2021-03-22\n",
            "2021-04-01\n",
            "None\n",
            "CIB\n",
            "4\n",
            "2021-07-30\n",
            "2021-08-10\n",
            "2021-08-16\n",
            "None\n",
            "PAT\n",
            "4\n",
            "2020-09-13\n",
            "2020-09-30\n",
            "2020-10-09\n",
            "None\n",
            "CIB\n",
            "3\n",
            "2021-10-04\n",
            "2021-10-07\n",
            "2021-10-13\n",
            "2021-10-07\n",
            "PAT\n",
            "5\n",
            "2021-06-10\n",
            "2021-08-20\n",
            "2021-08-23\n",
            "None\n",
            "PAT\n",
            "5\n",
            "2022-01-23\n",
            "2022-02-14\n",
            "2022-02-17\n",
            "2022-02-12\n",
            "PAT\n",
            "4\n",
            "2022-11-27\n",
            "2023-02-28\n",
            "2023-03-12\n",
            "None\n",
            "CIB\n",
            "4\n",
            "2022-08-22\n",
            "2022-09-17\n",
            "2022-09-25\n",
            "None\n",
            "PAT\n",
            "5\n",
            "2023-01-04\n",
            "2023-01-17\n",
            "2023-01-19\n",
            "None\n"
          ]
        }
      ]
    }
  ],
  "metadata": {
    "colab": {
      "provenance": []
    },
    "kernelspec": {
      "display_name": "Python 3",
      "name": "python3"
    }
  },
  "nbformat": 4,
  "nbformat_minor": 0
}